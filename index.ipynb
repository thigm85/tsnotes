{
 "cells": [
  {
   "cell_type": "code",
   "execution_count": null,
   "metadata": {},
   "outputs": [],
   "source": [
    "#| hide\n",
    "from tsnotes.core import *"
   ]
  },
  {
   "cell_type": "markdown",
   "metadata": {},
   "source": [
    "# tsnotes\n",
    "\n",
    "> Notes and code about time series modeling."
   ]
  }
 ],
 "metadata": {
  "kernelspec": {
   "display_name": "tsnotes",
   "language": "python",
   "name": "tsnotes"
  }
 },
 "nbformat": 4,
 "nbformat_minor": 4
}
